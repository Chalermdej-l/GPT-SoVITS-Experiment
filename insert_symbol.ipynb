{
 "cells": [
  {
   "cell_type": "code",
   "execution_count": 2,
   "metadata": {},
   "outputs": [],
   "source": [
    "import torch\n",
    "th_symbol = 171+ 3 #added punctuation"
   ]
  },
  {
   "cell_type": "code",
   "execution_count": 69,
   "metadata": {},
   "outputs": [],
   "source": [
    "# #### 迁移gpt模型的embedding层,插入两个新的token\n",
    "# dict = torch.load(r\"GPT_SoVITS\\pretrained_models\\s1bert25hz-2kh-longer-epoch=68e-step=50232.ckpt\",map_location=torch.device('cpu'))\n",
    "# dict[\"weight\"][\"model.ar_text_embedding.word_embeddings.weight\"].shape"
   ]
  },
  {
   "cell_type": "code",
   "execution_count": 70,
   "metadata": {},
   "outputs": [],
   "source": [
    "\n",
    "\n",
    "# # 0~94保持不动，95~向后移动两位，新的95 96随机初始化\n",
    "# # 一共512列，embedding_dim=5\n",
    "# first_part = dict[\"weight\"][\"model.ar_text_embedding.word_embeddings.weight\"][:95,:]\n",
    "# second_part = dict[\"weight\"][\"model.ar_text_embedding.word_embeddings.weight\"][95:-2,:]\n",
    "# new_weight = torch.cat([first_part,second_part, torch.randn(2, 512)],dim=0)\n",
    "# dict[\"weight\"][\"model.ar_text_embedding.word_embeddings.weight\"] = new_weight\n",
    "# torch.save(dict,r\"D:\\pyprojs\\GPT-SoVITSs\\fork\\GPT-SoVITS\\GPT_SoVITS\\pretrained_models\\s1bert25hz-hs_model.ckpt\")"
   ]
  },
  {
   "cell_type": "code",
   "execution_count": 71,
   "metadata": {},
   "outputs": [
    {
     "data": {
      "text/plain": [
       "torch.Size([732, 192])"
      ]
     },
     "execution_count": 71,
     "metadata": {},
     "output_type": "execute_result"
    }
   ],
   "source": [
    "import torch\n",
    "dict2 = torch.load(r\"GPT_SoVITS\\pretrained_models\\gsv-v2final-pretrained\\s2G2333k.pth\",map_location=torch.device('cpu'))\n",
    "dict2[\"weight\"][\"enc_p.text_embedding.weight\"].shape\n"
   ]
  },
  {
   "cell_type": "code",
   "execution_count": 73,
   "metadata": {},
   "outputs": [
    {
     "data": {
      "text/plain": [
       "torch.Size([906, 192])"
      ]
     },
     "execution_count": 73,
     "metadata": {},
     "output_type": "execute_result"
    }
   ],
   "source": [
    "# 0~94保持不动，95~向后移动两位，新的95 96随机初始化\n",
    "first_part = dict2[\"weight\"][\"enc_p.text_embedding.weight\"]\n",
    "second_part = torch.randn(th_symbol,192)\n",
    "new_weight = torch.cat([first_part,second_part],dim=0)\n",
    "new_weight.shape\n"
   ]
  },
  {
   "cell_type": "code",
   "execution_count": 74,
   "metadata": {},
   "outputs": [],
   "source": [
    "# first_part = dict2[\"weight\"][\"ref_enc.spectral.0.fc.weight\"]\n",
    "# second_part = torch.randn(th_symbol,704)\n",
    "# new_weight_spectural = torch.cat([first_part,second_part],dim=0)\n",
    "# new_weight_spectural.shape\n",
    "\n"
   ]
  },
  {
   "cell_type": "code",
   "execution_count": 75,
   "metadata": {},
   "outputs": [],
   "source": [
    "dict2[\"weight\"][\"enc_p.text_embedding.weight\"] = new_weight\n",
    "# dict2[\"weight\"][\"ref_enc.spectral.0.fc.weight\"] = new_weight_spectural\n",
    "\n",
    "torch.save(dict2,r\"GPT_SoVITS\\pretrained_models\\gsv-v2final-pretrained\\s2G2333k_th_add.pth\")"
   ]
  },
  {
   "cell_type": "code",
   "execution_count": 64,
   "metadata": {},
   "outputs": [
    {
     "data": {
      "text/plain": [
       "torch.Size([906, 192])"
      ]
     },
     "execution_count": 64,
     "metadata": {},
     "output_type": "execute_result"
    }
   ],
   "source": [
    "dict2 = torch.load(r\"GPT_SoVITS\\pretrained_models\\gsv-v2final-pretrained\\s2G2333k_th_add.pth\",map_location=torch.device('cpu'))\n",
    "dict2[\"weight\"][\"enc_p.text_embedding.weight\"].shape"
   ]
  },
  {
   "cell_type": "code",
   "execution_count": 66,
   "metadata": {},
   "outputs": [
    {
     "data": {
      "text/plain": [
       "torch.Size([302, 704])"
      ]
     },
     "execution_count": 66,
     "metadata": {},
     "output_type": "execute_result"
    }
   ],
   "source": [
    "dict2[\"weight\"][\"ref_enc.spectral.0.fc.weight\"].shape"
   ]
  },
  {
   "cell_type": "code",
   "execution_count": 21,
   "metadata": {},
   "outputs": [
    {
     "data": {
      "text/plain": [
       "odict_keys(['enc_p.ssl_proj.weight', 'enc_p.ssl_proj.bias', 'enc_p.encoder_ssl.attn_layers.0.emb_rel_k', 'enc_p.encoder_ssl.attn_layers.0.emb_rel_v', 'enc_p.encoder_ssl.attn_layers.0.conv_q.weight', 'enc_p.encoder_ssl.attn_layers.0.conv_q.bias', 'enc_p.encoder_ssl.attn_layers.0.conv_k.weight', 'enc_p.encoder_ssl.attn_layers.0.conv_k.bias', 'enc_p.encoder_ssl.attn_layers.0.conv_v.weight', 'enc_p.encoder_ssl.attn_layers.0.conv_v.bias', 'enc_p.encoder_ssl.attn_layers.0.conv_o.weight', 'enc_p.encoder_ssl.attn_layers.0.conv_o.bias', 'enc_p.encoder_ssl.attn_layers.1.emb_rel_k', 'enc_p.encoder_ssl.attn_layers.1.emb_rel_v', 'enc_p.encoder_ssl.attn_layers.1.conv_q.weight', 'enc_p.encoder_ssl.attn_layers.1.conv_q.bias', 'enc_p.encoder_ssl.attn_layers.1.conv_k.weight', 'enc_p.encoder_ssl.attn_layers.1.conv_k.bias', 'enc_p.encoder_ssl.attn_layers.1.conv_v.weight', 'enc_p.encoder_ssl.attn_layers.1.conv_v.bias', 'enc_p.encoder_ssl.attn_layers.1.conv_o.weight', 'enc_p.encoder_ssl.attn_layers.1.conv_o.bias', 'enc_p.encoder_ssl.attn_layers.2.emb_rel_k', 'enc_p.encoder_ssl.attn_layers.2.emb_rel_v', 'enc_p.encoder_ssl.attn_layers.2.conv_q.weight', 'enc_p.encoder_ssl.attn_layers.2.conv_q.bias', 'enc_p.encoder_ssl.attn_layers.2.conv_k.weight', 'enc_p.encoder_ssl.attn_layers.2.conv_k.bias', 'enc_p.encoder_ssl.attn_layers.2.conv_v.weight', 'enc_p.encoder_ssl.attn_layers.2.conv_v.bias', 'enc_p.encoder_ssl.attn_layers.2.conv_o.weight', 'enc_p.encoder_ssl.attn_layers.2.conv_o.bias', 'enc_p.encoder_ssl.norm_layers_1.0.gamma', 'enc_p.encoder_ssl.norm_layers_1.0.beta', 'enc_p.encoder_ssl.norm_layers_1.1.gamma', 'enc_p.encoder_ssl.norm_layers_1.1.beta', 'enc_p.encoder_ssl.norm_layers_1.2.gamma', 'enc_p.encoder_ssl.norm_layers_1.2.beta', 'enc_p.encoder_ssl.ffn_layers.0.conv_1.weight', 'enc_p.encoder_ssl.ffn_layers.0.conv_1.bias', 'enc_p.encoder_ssl.ffn_layers.0.conv_2.weight', 'enc_p.encoder_ssl.ffn_layers.0.conv_2.bias', 'enc_p.encoder_ssl.ffn_layers.1.conv_1.weight', 'enc_p.encoder_ssl.ffn_layers.1.conv_1.bias', 'enc_p.encoder_ssl.ffn_layers.1.conv_2.weight', 'enc_p.encoder_ssl.ffn_layers.1.conv_2.bias', 'enc_p.encoder_ssl.ffn_layers.2.conv_1.weight', 'enc_p.encoder_ssl.ffn_layers.2.conv_1.bias', 'enc_p.encoder_ssl.ffn_layers.2.conv_2.weight', 'enc_p.encoder_ssl.ffn_layers.2.conv_2.bias', 'enc_p.encoder_ssl.norm_layers_2.0.gamma', 'enc_p.encoder_ssl.norm_layers_2.0.beta', 'enc_p.encoder_ssl.norm_layers_2.1.gamma', 'enc_p.encoder_ssl.norm_layers_2.1.beta', 'enc_p.encoder_ssl.norm_layers_2.2.gamma', 'enc_p.encoder_ssl.norm_layers_2.2.beta', 'enc_p.encoder_text.attn_layers.0.emb_rel_k', 'enc_p.encoder_text.attn_layers.0.emb_rel_v', 'enc_p.encoder_text.attn_layers.0.conv_q.weight', 'enc_p.encoder_text.attn_layers.0.conv_q.bias', 'enc_p.encoder_text.attn_layers.0.conv_k.weight', 'enc_p.encoder_text.attn_layers.0.conv_k.bias', 'enc_p.encoder_text.attn_layers.0.conv_v.weight', 'enc_p.encoder_text.attn_layers.0.conv_v.bias', 'enc_p.encoder_text.attn_layers.0.conv_o.weight', 'enc_p.encoder_text.attn_layers.0.conv_o.bias', 'enc_p.encoder_text.attn_layers.1.emb_rel_k', 'enc_p.encoder_text.attn_layers.1.emb_rel_v', 'enc_p.encoder_text.attn_layers.1.conv_q.weight', 'enc_p.encoder_text.attn_layers.1.conv_q.bias', 'enc_p.encoder_text.attn_layers.1.conv_k.weight', 'enc_p.encoder_text.attn_layers.1.conv_k.bias', 'enc_p.encoder_text.attn_layers.1.conv_v.weight', 'enc_p.encoder_text.attn_layers.1.conv_v.bias', 'enc_p.encoder_text.attn_layers.1.conv_o.weight', 'enc_p.encoder_text.attn_layers.1.conv_o.bias', 'enc_p.encoder_text.attn_layers.2.emb_rel_k', 'enc_p.encoder_text.attn_layers.2.emb_rel_v', 'enc_p.encoder_text.attn_layers.2.conv_q.weight', 'enc_p.encoder_text.attn_layers.2.conv_q.bias', 'enc_p.encoder_text.attn_layers.2.conv_k.weight', 'enc_p.encoder_text.attn_layers.2.conv_k.bias', 'enc_p.encoder_text.attn_layers.2.conv_v.weight', 'enc_p.encoder_text.attn_layers.2.conv_v.bias', 'enc_p.encoder_text.attn_layers.2.conv_o.weight', 'enc_p.encoder_text.attn_layers.2.conv_o.bias', 'enc_p.encoder_text.attn_layers.3.emb_rel_k', 'enc_p.encoder_text.attn_layers.3.emb_rel_v', 'enc_p.encoder_text.attn_layers.3.conv_q.weight', 'enc_p.encoder_text.attn_layers.3.conv_q.bias', 'enc_p.encoder_text.attn_layers.3.conv_k.weight', 'enc_p.encoder_text.attn_layers.3.conv_k.bias', 'enc_p.encoder_text.attn_layers.3.conv_v.weight', 'enc_p.encoder_text.attn_layers.3.conv_v.bias', 'enc_p.encoder_text.attn_layers.3.conv_o.weight', 'enc_p.encoder_text.attn_layers.3.conv_o.bias', 'enc_p.encoder_text.attn_layers.4.emb_rel_k', 'enc_p.encoder_text.attn_layers.4.emb_rel_v', 'enc_p.encoder_text.attn_layers.4.conv_q.weight', 'enc_p.encoder_text.attn_layers.4.conv_q.bias', 'enc_p.encoder_text.attn_layers.4.conv_k.weight', 'enc_p.encoder_text.attn_layers.4.conv_k.bias', 'enc_p.encoder_text.attn_layers.4.conv_v.weight', 'enc_p.encoder_text.attn_layers.4.conv_v.bias', 'enc_p.encoder_text.attn_layers.4.conv_o.weight', 'enc_p.encoder_text.attn_layers.4.conv_o.bias', 'enc_p.encoder_text.attn_layers.5.emb_rel_k', 'enc_p.encoder_text.attn_layers.5.emb_rel_v', 'enc_p.encoder_text.attn_layers.5.conv_q.weight', 'enc_p.encoder_text.attn_layers.5.conv_q.bias', 'enc_p.encoder_text.attn_layers.5.conv_k.weight', 'enc_p.encoder_text.attn_layers.5.conv_k.bias', 'enc_p.encoder_text.attn_layers.5.conv_v.weight', 'enc_p.encoder_text.attn_layers.5.conv_v.bias', 'enc_p.encoder_text.attn_layers.5.conv_o.weight', 'enc_p.encoder_text.attn_layers.5.conv_o.bias', 'enc_p.encoder_text.norm_layers_1.0.gamma', 'enc_p.encoder_text.norm_layers_1.0.beta', 'enc_p.encoder_text.norm_layers_1.1.gamma', 'enc_p.encoder_text.norm_layers_1.1.beta', 'enc_p.encoder_text.norm_layers_1.2.gamma', 'enc_p.encoder_text.norm_layers_1.2.beta', 'enc_p.encoder_text.norm_layers_1.3.gamma', 'enc_p.encoder_text.norm_layers_1.3.beta', 'enc_p.encoder_text.norm_layers_1.4.gamma', 'enc_p.encoder_text.norm_layers_1.4.beta', 'enc_p.encoder_text.norm_layers_1.5.gamma', 'enc_p.encoder_text.norm_layers_1.5.beta', 'enc_p.encoder_text.ffn_layers.0.conv_1.weight', 'enc_p.encoder_text.ffn_layers.0.conv_1.bias', 'enc_p.encoder_text.ffn_layers.0.conv_2.weight', 'enc_p.encoder_text.ffn_layers.0.conv_2.bias', 'enc_p.encoder_text.ffn_layers.1.conv_1.weight', 'enc_p.encoder_text.ffn_layers.1.conv_1.bias', 'enc_p.encoder_text.ffn_layers.1.conv_2.weight', 'enc_p.encoder_text.ffn_layers.1.conv_2.bias', 'enc_p.encoder_text.ffn_layers.2.conv_1.weight', 'enc_p.encoder_text.ffn_layers.2.conv_1.bias', 'enc_p.encoder_text.ffn_layers.2.conv_2.weight', 'enc_p.encoder_text.ffn_layers.2.conv_2.bias', 'enc_p.encoder_text.ffn_layers.3.conv_1.weight', 'enc_p.encoder_text.ffn_layers.3.conv_1.bias', 'enc_p.encoder_text.ffn_layers.3.conv_2.weight', 'enc_p.encoder_text.ffn_layers.3.conv_2.bias', 'enc_p.encoder_text.ffn_layers.4.conv_1.weight', 'enc_p.encoder_text.ffn_layers.4.conv_1.bias', 'enc_p.encoder_text.ffn_layers.4.conv_2.weight', 'enc_p.encoder_text.ffn_layers.4.conv_2.bias', 'enc_p.encoder_text.ffn_layers.5.conv_1.weight', 'enc_p.encoder_text.ffn_layers.5.conv_1.bias', 'enc_p.encoder_text.ffn_layers.5.conv_2.weight', 'enc_p.encoder_text.ffn_layers.5.conv_2.bias', 'enc_p.encoder_text.norm_layers_2.0.gamma', 'enc_p.encoder_text.norm_layers_2.0.beta', 'enc_p.encoder_text.norm_layers_2.1.gamma', 'enc_p.encoder_text.norm_layers_2.1.beta', 'enc_p.encoder_text.norm_layers_2.2.gamma', 'enc_p.encoder_text.norm_layers_2.2.beta', 'enc_p.encoder_text.norm_layers_2.3.gamma', 'enc_p.encoder_text.norm_layers_2.3.beta', 'enc_p.encoder_text.norm_layers_2.4.gamma', 'enc_p.encoder_text.norm_layers_2.4.beta', 'enc_p.encoder_text.norm_layers_2.5.gamma', 'enc_p.encoder_text.norm_layers_2.5.beta', 'enc_p.text_embedding.weight', 'enc_p.mrte.cross_attention.conv_q.weight', 'enc_p.mrte.cross_attention.conv_q.bias', 'enc_p.mrte.cross_attention.conv_k.weight', 'enc_p.mrte.cross_attention.conv_k.bias', 'enc_p.mrte.cross_attention.conv_v.weight', 'enc_p.mrte.cross_attention.conv_v.bias', 'enc_p.mrte.cross_attention.conv_o.weight', 'enc_p.mrte.cross_attention.conv_o.bias', 'enc_p.mrte.c_pre.weight', 'enc_p.mrte.c_pre.bias', 'enc_p.mrte.text_pre.weight', 'enc_p.mrte.text_pre.bias', 'enc_p.mrte.c_post.weight', 'enc_p.mrte.c_post.bias', 'enc_p.encoder2.attn_layers.0.emb_rel_k', 'enc_p.encoder2.attn_layers.0.emb_rel_v', 'enc_p.encoder2.attn_layers.0.conv_q.weight', 'enc_p.encoder2.attn_layers.0.conv_q.bias', 'enc_p.encoder2.attn_layers.0.conv_k.weight', 'enc_p.encoder2.attn_layers.0.conv_k.bias', 'enc_p.encoder2.attn_layers.0.conv_v.weight', 'enc_p.encoder2.attn_layers.0.conv_v.bias', 'enc_p.encoder2.attn_layers.0.conv_o.weight', 'enc_p.encoder2.attn_layers.0.conv_o.bias', 'enc_p.encoder2.attn_layers.1.emb_rel_k', 'enc_p.encoder2.attn_layers.1.emb_rel_v', 'enc_p.encoder2.attn_layers.1.conv_q.weight', 'enc_p.encoder2.attn_layers.1.conv_q.bias', 'enc_p.encoder2.attn_layers.1.conv_k.weight', 'enc_p.encoder2.attn_layers.1.conv_k.bias', 'enc_p.encoder2.attn_layers.1.conv_v.weight', 'enc_p.encoder2.attn_layers.1.conv_v.bias', 'enc_p.encoder2.attn_layers.1.conv_o.weight', 'enc_p.encoder2.attn_layers.1.conv_o.bias', 'enc_p.encoder2.attn_layers.2.emb_rel_k', 'enc_p.encoder2.attn_layers.2.emb_rel_v', 'enc_p.encoder2.attn_layers.2.conv_q.weight', 'enc_p.encoder2.attn_layers.2.conv_q.bias', 'enc_p.encoder2.attn_layers.2.conv_k.weight', 'enc_p.encoder2.attn_layers.2.conv_k.bias', 'enc_p.encoder2.attn_layers.2.conv_v.weight', 'enc_p.encoder2.attn_layers.2.conv_v.bias', 'enc_p.encoder2.attn_layers.2.conv_o.weight', 'enc_p.encoder2.attn_layers.2.conv_o.bias', 'enc_p.encoder2.norm_layers_1.0.gamma', 'enc_p.encoder2.norm_layers_1.0.beta', 'enc_p.encoder2.norm_layers_1.1.gamma', 'enc_p.encoder2.norm_layers_1.1.beta', 'enc_p.encoder2.norm_layers_1.2.gamma', 'enc_p.encoder2.norm_layers_1.2.beta', 'enc_p.encoder2.ffn_layers.0.conv_1.weight', 'enc_p.encoder2.ffn_layers.0.conv_1.bias', 'enc_p.encoder2.ffn_layers.0.conv_2.weight', 'enc_p.encoder2.ffn_layers.0.conv_2.bias', 'enc_p.encoder2.ffn_layers.1.conv_1.weight', 'enc_p.encoder2.ffn_layers.1.conv_1.bias', 'enc_p.encoder2.ffn_layers.1.conv_2.weight', 'enc_p.encoder2.ffn_layers.1.conv_2.bias', 'enc_p.encoder2.ffn_layers.2.conv_1.weight', 'enc_p.encoder2.ffn_layers.2.conv_1.bias', 'enc_p.encoder2.ffn_layers.2.conv_2.weight', 'enc_p.encoder2.ffn_layers.2.conv_2.bias', 'enc_p.encoder2.norm_layers_2.0.gamma', 'enc_p.encoder2.norm_layers_2.0.beta', 'enc_p.encoder2.norm_layers_2.1.gamma', 'enc_p.encoder2.norm_layers_2.1.beta', 'enc_p.encoder2.norm_layers_2.2.gamma', 'enc_p.encoder2.norm_layers_2.2.beta', 'enc_p.proj.weight', 'enc_p.proj.bias', 'dec.conv_pre.weight', 'dec.conv_pre.bias', 'dec.ups.0.bias', 'dec.ups.0.weight_g', 'dec.ups.0.weight_v', 'dec.ups.1.bias', 'dec.ups.1.weight_g', 'dec.ups.1.weight_v', 'dec.ups.2.bias', 'dec.ups.2.weight_g', 'dec.ups.2.weight_v', 'dec.ups.3.bias', 'dec.ups.3.weight_g', 'dec.ups.3.weight_v', 'dec.ups.4.bias', 'dec.ups.4.weight_g', 'dec.ups.4.weight_v', 'dec.resblocks.0.convs1.0.bias', 'dec.resblocks.0.convs1.0.weight_g', 'dec.resblocks.0.convs1.0.weight_v', 'dec.resblocks.0.convs1.1.bias', 'dec.resblocks.0.convs1.1.weight_g', 'dec.resblocks.0.convs1.1.weight_v', 'dec.resblocks.0.convs1.2.bias', 'dec.resblocks.0.convs1.2.weight_g', 'dec.resblocks.0.convs1.2.weight_v', 'dec.resblocks.0.convs2.0.bias', 'dec.resblocks.0.convs2.0.weight_g', 'dec.resblocks.0.convs2.0.weight_v', 'dec.resblocks.0.convs2.1.bias', 'dec.resblocks.0.convs2.1.weight_g', 'dec.resblocks.0.convs2.1.weight_v', 'dec.resblocks.0.convs2.2.bias', 'dec.resblocks.0.convs2.2.weight_g', 'dec.resblocks.0.convs2.2.weight_v', 'dec.resblocks.1.convs1.0.bias', 'dec.resblocks.1.convs1.0.weight_g', 'dec.resblocks.1.convs1.0.weight_v', 'dec.resblocks.1.convs1.1.bias', 'dec.resblocks.1.convs1.1.weight_g', 'dec.resblocks.1.convs1.1.weight_v', 'dec.resblocks.1.convs1.2.bias', 'dec.resblocks.1.convs1.2.weight_g', 'dec.resblocks.1.convs1.2.weight_v', 'dec.resblocks.1.convs2.0.bias', 'dec.resblocks.1.convs2.0.weight_g', 'dec.resblocks.1.convs2.0.weight_v', 'dec.resblocks.1.convs2.1.bias', 'dec.resblocks.1.convs2.1.weight_g', 'dec.resblocks.1.convs2.1.weight_v', 'dec.resblocks.1.convs2.2.bias', 'dec.resblocks.1.convs2.2.weight_g', 'dec.resblocks.1.convs2.2.weight_v', 'dec.resblocks.2.convs1.0.bias', 'dec.resblocks.2.convs1.0.weight_g', 'dec.resblocks.2.convs1.0.weight_v', 'dec.resblocks.2.convs1.1.bias', 'dec.resblocks.2.convs1.1.weight_g', 'dec.resblocks.2.convs1.1.weight_v', 'dec.resblocks.2.convs1.2.bias', 'dec.resblocks.2.convs1.2.weight_g', 'dec.resblocks.2.convs1.2.weight_v', 'dec.resblocks.2.convs2.0.bias', 'dec.resblocks.2.convs2.0.weight_g', 'dec.resblocks.2.convs2.0.weight_v', 'dec.resblocks.2.convs2.1.bias', 'dec.resblocks.2.convs2.1.weight_g', 'dec.resblocks.2.convs2.1.weight_v', 'dec.resblocks.2.convs2.2.bias', 'dec.resblocks.2.convs2.2.weight_g', 'dec.resblocks.2.convs2.2.weight_v', 'dec.resblocks.3.convs1.0.bias', 'dec.resblocks.3.convs1.0.weight_g', 'dec.resblocks.3.convs1.0.weight_v', 'dec.resblocks.3.convs1.1.bias', 'dec.resblocks.3.convs1.1.weight_g', 'dec.resblocks.3.convs1.1.weight_v', 'dec.resblocks.3.convs1.2.bias', 'dec.resblocks.3.convs1.2.weight_g', 'dec.resblocks.3.convs1.2.weight_v', 'dec.resblocks.3.convs2.0.bias', 'dec.resblocks.3.convs2.0.weight_g', 'dec.resblocks.3.convs2.0.weight_v', 'dec.resblocks.3.convs2.1.bias', 'dec.resblocks.3.convs2.1.weight_g', 'dec.resblocks.3.convs2.1.weight_v', 'dec.resblocks.3.convs2.2.bias', 'dec.resblocks.3.convs2.2.weight_g', 'dec.resblocks.3.convs2.2.weight_v', 'dec.resblocks.4.convs1.0.bias', 'dec.resblocks.4.convs1.0.weight_g', 'dec.resblocks.4.convs1.0.weight_v', 'dec.resblocks.4.convs1.1.bias', 'dec.resblocks.4.convs1.1.weight_g', 'dec.resblocks.4.convs1.1.weight_v', 'dec.resblocks.4.convs1.2.bias', 'dec.resblocks.4.convs1.2.weight_g', 'dec.resblocks.4.convs1.2.weight_v', 'dec.resblocks.4.convs2.0.bias', 'dec.resblocks.4.convs2.0.weight_g', 'dec.resblocks.4.convs2.0.weight_v', 'dec.resblocks.4.convs2.1.bias', 'dec.resblocks.4.convs2.1.weight_g', 'dec.resblocks.4.convs2.1.weight_v', 'dec.resblocks.4.convs2.2.bias', 'dec.resblocks.4.convs2.2.weight_g', 'dec.resblocks.4.convs2.2.weight_v', 'dec.resblocks.5.convs1.0.bias', 'dec.resblocks.5.convs1.0.weight_g', 'dec.resblocks.5.convs1.0.weight_v', 'dec.resblocks.5.convs1.1.bias', 'dec.resblocks.5.convs1.1.weight_g', 'dec.resblocks.5.convs1.1.weight_v', 'dec.resblocks.5.convs1.2.bias', 'dec.resblocks.5.convs1.2.weight_g', 'dec.resblocks.5.convs1.2.weight_v', 'dec.resblocks.5.convs2.0.bias', 'dec.resblocks.5.convs2.0.weight_g', 'dec.resblocks.5.convs2.0.weight_v', 'dec.resblocks.5.convs2.1.bias', 'dec.resblocks.5.convs2.1.weight_g', 'dec.resblocks.5.convs2.1.weight_v', 'dec.resblocks.5.convs2.2.bias', 'dec.resblocks.5.convs2.2.weight_g', 'dec.resblocks.5.convs2.2.weight_v', 'dec.resblocks.6.convs1.0.bias', 'dec.resblocks.6.convs1.0.weight_g', 'dec.resblocks.6.convs1.0.weight_v', 'dec.resblocks.6.convs1.1.bias', 'dec.resblocks.6.convs1.1.weight_g', 'dec.resblocks.6.convs1.1.weight_v', 'dec.resblocks.6.convs1.2.bias', 'dec.resblocks.6.convs1.2.weight_g', 'dec.resblocks.6.convs1.2.weight_v', 'dec.resblocks.6.convs2.0.bias', 'dec.resblocks.6.convs2.0.weight_g', 'dec.resblocks.6.convs2.0.weight_v', 'dec.resblocks.6.convs2.1.bias', 'dec.resblocks.6.convs2.1.weight_g', 'dec.resblocks.6.convs2.1.weight_v', 'dec.resblocks.6.convs2.2.bias', 'dec.resblocks.6.convs2.2.weight_g', 'dec.resblocks.6.convs2.2.weight_v', 'dec.resblocks.7.convs1.0.bias', 'dec.resblocks.7.convs1.0.weight_g', 'dec.resblocks.7.convs1.0.weight_v', 'dec.resblocks.7.convs1.1.bias', 'dec.resblocks.7.convs1.1.weight_g', 'dec.resblocks.7.convs1.1.weight_v', 'dec.resblocks.7.convs1.2.bias', 'dec.resblocks.7.convs1.2.weight_g', 'dec.resblocks.7.convs1.2.weight_v', 'dec.resblocks.7.convs2.0.bias', 'dec.resblocks.7.convs2.0.weight_g', 'dec.resblocks.7.convs2.0.weight_v', 'dec.resblocks.7.convs2.1.bias', 'dec.resblocks.7.convs2.1.weight_g', 'dec.resblocks.7.convs2.1.weight_v', 'dec.resblocks.7.convs2.2.bias', 'dec.resblocks.7.convs2.2.weight_g', 'dec.resblocks.7.convs2.2.weight_v', 'dec.resblocks.8.convs1.0.bias', 'dec.resblocks.8.convs1.0.weight_g', 'dec.resblocks.8.convs1.0.weight_v', 'dec.resblocks.8.convs1.1.bias', 'dec.resblocks.8.convs1.1.weight_g', 'dec.resblocks.8.convs1.1.weight_v', 'dec.resblocks.8.convs1.2.bias', 'dec.resblocks.8.convs1.2.weight_g', 'dec.resblocks.8.convs1.2.weight_v', 'dec.resblocks.8.convs2.0.bias', 'dec.resblocks.8.convs2.0.weight_g', 'dec.resblocks.8.convs2.0.weight_v', 'dec.resblocks.8.convs2.1.bias', 'dec.resblocks.8.convs2.1.weight_g', 'dec.resblocks.8.convs2.1.weight_v', 'dec.resblocks.8.convs2.2.bias', 'dec.resblocks.8.convs2.2.weight_g', 'dec.resblocks.8.convs2.2.weight_v', 'dec.resblocks.9.convs1.0.bias', 'dec.resblocks.9.convs1.0.weight_g', 'dec.resblocks.9.convs1.0.weight_v', 'dec.resblocks.9.convs1.1.bias', 'dec.resblocks.9.convs1.1.weight_g', 'dec.resblocks.9.convs1.1.weight_v', 'dec.resblocks.9.convs1.2.bias', 'dec.resblocks.9.convs1.2.weight_g', 'dec.resblocks.9.convs1.2.weight_v', 'dec.resblocks.9.convs2.0.bias', 'dec.resblocks.9.convs2.0.weight_g', 'dec.resblocks.9.convs2.0.weight_v', 'dec.resblocks.9.convs2.1.bias', 'dec.resblocks.9.convs2.1.weight_g', 'dec.resblocks.9.convs2.1.weight_v', 'dec.resblocks.9.convs2.2.bias', 'dec.resblocks.9.convs2.2.weight_g', 'dec.resblocks.9.convs2.2.weight_v', 'dec.resblocks.10.convs1.0.bias', 'dec.resblocks.10.convs1.0.weight_g', 'dec.resblocks.10.convs1.0.weight_v', 'dec.resblocks.10.convs1.1.bias', 'dec.resblocks.10.convs1.1.weight_g', 'dec.resblocks.10.convs1.1.weight_v', 'dec.resblocks.10.convs1.2.bias', 'dec.resblocks.10.convs1.2.weight_g', 'dec.resblocks.10.convs1.2.weight_v', 'dec.resblocks.10.convs2.0.bias', 'dec.resblocks.10.convs2.0.weight_g', 'dec.resblocks.10.convs2.0.weight_v', 'dec.resblocks.10.convs2.1.bias', 'dec.resblocks.10.convs2.1.weight_g', 'dec.resblocks.10.convs2.1.weight_v', 'dec.resblocks.10.convs2.2.bias', 'dec.resblocks.10.convs2.2.weight_g', 'dec.resblocks.10.convs2.2.weight_v', 'dec.resblocks.11.convs1.0.bias', 'dec.resblocks.11.convs1.0.weight_g', 'dec.resblocks.11.convs1.0.weight_v', 'dec.resblocks.11.convs1.1.bias', 'dec.resblocks.11.convs1.1.weight_g', 'dec.resblocks.11.convs1.1.weight_v', 'dec.resblocks.11.convs1.2.bias', 'dec.resblocks.11.convs1.2.weight_g', 'dec.resblocks.11.convs1.2.weight_v', 'dec.resblocks.11.convs2.0.bias', 'dec.resblocks.11.convs2.0.weight_g', 'dec.resblocks.11.convs2.0.weight_v', 'dec.resblocks.11.convs2.1.bias', 'dec.resblocks.11.convs2.1.weight_g', 'dec.resblocks.11.convs2.1.weight_v', 'dec.resblocks.11.convs2.2.bias', 'dec.resblocks.11.convs2.2.weight_g', 'dec.resblocks.11.convs2.2.weight_v', 'dec.resblocks.12.convs1.0.bias', 'dec.resblocks.12.convs1.0.weight_g', 'dec.resblocks.12.convs1.0.weight_v', 'dec.resblocks.12.convs1.1.bias', 'dec.resblocks.12.convs1.1.weight_g', 'dec.resblocks.12.convs1.1.weight_v', 'dec.resblocks.12.convs1.2.bias', 'dec.resblocks.12.convs1.2.weight_g', 'dec.resblocks.12.convs1.2.weight_v', 'dec.resblocks.12.convs2.0.bias', 'dec.resblocks.12.convs2.0.weight_g', 'dec.resblocks.12.convs2.0.weight_v', 'dec.resblocks.12.convs2.1.bias', 'dec.resblocks.12.convs2.1.weight_g', 'dec.resblocks.12.convs2.1.weight_v', 'dec.resblocks.12.convs2.2.bias', 'dec.resblocks.12.convs2.2.weight_g', 'dec.resblocks.12.convs2.2.weight_v', 'dec.resblocks.13.convs1.0.bias', 'dec.resblocks.13.convs1.0.weight_g', 'dec.resblocks.13.convs1.0.weight_v', 'dec.resblocks.13.convs1.1.bias', 'dec.resblocks.13.convs1.1.weight_g', 'dec.resblocks.13.convs1.1.weight_v', 'dec.resblocks.13.convs1.2.bias', 'dec.resblocks.13.convs1.2.weight_g', 'dec.resblocks.13.convs1.2.weight_v', 'dec.resblocks.13.convs2.0.bias', 'dec.resblocks.13.convs2.0.weight_g', 'dec.resblocks.13.convs2.0.weight_v', 'dec.resblocks.13.convs2.1.bias', 'dec.resblocks.13.convs2.1.weight_g', 'dec.resblocks.13.convs2.1.weight_v', 'dec.resblocks.13.convs2.2.bias', 'dec.resblocks.13.convs2.2.weight_g', 'dec.resblocks.13.convs2.2.weight_v', 'dec.resblocks.14.convs1.0.bias', 'dec.resblocks.14.convs1.0.weight_g', 'dec.resblocks.14.convs1.0.weight_v', 'dec.resblocks.14.convs1.1.bias', 'dec.resblocks.14.convs1.1.weight_g', 'dec.resblocks.14.convs1.1.weight_v', 'dec.resblocks.14.convs1.2.bias', 'dec.resblocks.14.convs1.2.weight_g', 'dec.resblocks.14.convs1.2.weight_v', 'dec.resblocks.14.convs2.0.bias', 'dec.resblocks.14.convs2.0.weight_g', 'dec.resblocks.14.convs2.0.weight_v', 'dec.resblocks.14.convs2.1.bias', 'dec.resblocks.14.convs2.1.weight_g', 'dec.resblocks.14.convs2.1.weight_v', 'dec.resblocks.14.convs2.2.bias', 'dec.resblocks.14.convs2.2.weight_g', 'dec.resblocks.14.convs2.2.weight_v', 'dec.conv_post.weight', 'dec.cond.weight', 'dec.cond.bias', 'enc_q.pre.weight', 'enc_q.pre.bias', 'enc_q.enc.in_layers.0.bias', 'enc_q.enc.in_layers.0.weight_g', 'enc_q.enc.in_layers.0.weight_v', 'enc_q.enc.in_layers.1.bias', 'enc_q.enc.in_layers.1.weight_g', 'enc_q.enc.in_layers.1.weight_v', 'enc_q.enc.in_layers.2.bias', 'enc_q.enc.in_layers.2.weight_g', 'enc_q.enc.in_layers.2.weight_v', 'enc_q.enc.in_layers.3.bias', 'enc_q.enc.in_layers.3.weight_g', 'enc_q.enc.in_layers.3.weight_v', 'enc_q.enc.in_layers.4.bias', 'enc_q.enc.in_layers.4.weight_g', 'enc_q.enc.in_layers.4.weight_v', 'enc_q.enc.in_layers.5.bias', 'enc_q.enc.in_layers.5.weight_g', 'enc_q.enc.in_layers.5.weight_v', 'enc_q.enc.in_layers.6.bias', 'enc_q.enc.in_layers.6.weight_g', 'enc_q.enc.in_layers.6.weight_v', 'enc_q.enc.in_layers.7.bias', 'enc_q.enc.in_layers.7.weight_g', 'enc_q.enc.in_layers.7.weight_v', 'enc_q.enc.in_layers.8.bias', 'enc_q.enc.in_layers.8.weight_g', 'enc_q.enc.in_layers.8.weight_v', 'enc_q.enc.in_layers.9.bias', 'enc_q.enc.in_layers.9.weight_g', 'enc_q.enc.in_layers.9.weight_v', 'enc_q.enc.in_layers.10.bias', 'enc_q.enc.in_layers.10.weight_g', 'enc_q.enc.in_layers.10.weight_v', 'enc_q.enc.in_layers.11.bias', 'enc_q.enc.in_layers.11.weight_g', 'enc_q.enc.in_layers.11.weight_v', 'enc_q.enc.in_layers.12.bias', 'enc_q.enc.in_layers.12.weight_g', 'enc_q.enc.in_layers.12.weight_v', 'enc_q.enc.in_layers.13.bias', 'enc_q.enc.in_layers.13.weight_g', 'enc_q.enc.in_layers.13.weight_v', 'enc_q.enc.in_layers.14.bias', 'enc_q.enc.in_layers.14.weight_g', 'enc_q.enc.in_layers.14.weight_v', 'enc_q.enc.in_layers.15.bias', 'enc_q.enc.in_layers.15.weight_g', 'enc_q.enc.in_layers.15.weight_v', 'enc_q.enc.res_skip_layers.0.bias', 'enc_q.enc.res_skip_layers.0.weight_g', 'enc_q.enc.res_skip_layers.0.weight_v', 'enc_q.enc.res_skip_layers.1.bias', 'enc_q.enc.res_skip_layers.1.weight_g', 'enc_q.enc.res_skip_layers.1.weight_v', 'enc_q.enc.res_skip_layers.2.bias', 'enc_q.enc.res_skip_layers.2.weight_g', 'enc_q.enc.res_skip_layers.2.weight_v', 'enc_q.enc.res_skip_layers.3.bias', 'enc_q.enc.res_skip_layers.3.weight_g', 'enc_q.enc.res_skip_layers.3.weight_v', 'enc_q.enc.res_skip_layers.4.bias', 'enc_q.enc.res_skip_layers.4.weight_g', 'enc_q.enc.res_skip_layers.4.weight_v', 'enc_q.enc.res_skip_layers.5.bias', 'enc_q.enc.res_skip_layers.5.weight_g', 'enc_q.enc.res_skip_layers.5.weight_v', 'enc_q.enc.res_skip_layers.6.bias', 'enc_q.enc.res_skip_layers.6.weight_g', 'enc_q.enc.res_skip_layers.6.weight_v', 'enc_q.enc.res_skip_layers.7.bias', 'enc_q.enc.res_skip_layers.7.weight_g', 'enc_q.enc.res_skip_layers.7.weight_v', 'enc_q.enc.res_skip_layers.8.bias', 'enc_q.enc.res_skip_layers.8.weight_g', 'enc_q.enc.res_skip_layers.8.weight_v', 'enc_q.enc.res_skip_layers.9.bias', 'enc_q.enc.res_skip_layers.9.weight_g', 'enc_q.enc.res_skip_layers.9.weight_v', 'enc_q.enc.res_skip_layers.10.bias', 'enc_q.enc.res_skip_layers.10.weight_g', 'enc_q.enc.res_skip_layers.10.weight_v', 'enc_q.enc.res_skip_layers.11.bias', 'enc_q.enc.res_skip_layers.11.weight_g', 'enc_q.enc.res_skip_layers.11.weight_v', 'enc_q.enc.res_skip_layers.12.bias', 'enc_q.enc.res_skip_layers.12.weight_g', 'enc_q.enc.res_skip_layers.12.weight_v', 'enc_q.enc.res_skip_layers.13.bias', 'enc_q.enc.res_skip_layers.13.weight_g', 'enc_q.enc.res_skip_layers.13.weight_v', 'enc_q.enc.res_skip_layers.14.bias', 'enc_q.enc.res_skip_layers.14.weight_g', 'enc_q.enc.res_skip_layers.14.weight_v', 'enc_q.enc.res_skip_layers.15.bias', 'enc_q.enc.res_skip_layers.15.weight_g', 'enc_q.enc.res_skip_layers.15.weight_v', 'enc_q.enc.cond_layer.bias', 'enc_q.enc.cond_layer.weight_g', 'enc_q.enc.cond_layer.weight_v', 'enc_q.proj.weight', 'enc_q.proj.bias', 'flow.flows.0.pre.weight', 'flow.flows.0.pre.bias', 'flow.flows.0.enc.in_layers.0.bias', 'flow.flows.0.enc.in_layers.0.weight_g', 'flow.flows.0.enc.in_layers.0.weight_v', 'flow.flows.0.enc.in_layers.1.bias', 'flow.flows.0.enc.in_layers.1.weight_g', 'flow.flows.0.enc.in_layers.1.weight_v', 'flow.flows.0.enc.in_layers.2.bias', 'flow.flows.0.enc.in_layers.2.weight_g', 'flow.flows.0.enc.in_layers.2.weight_v', 'flow.flows.0.enc.in_layers.3.bias', 'flow.flows.0.enc.in_layers.3.weight_g', 'flow.flows.0.enc.in_layers.3.weight_v', 'flow.flows.0.enc.res_skip_layers.0.bias', 'flow.flows.0.enc.res_skip_layers.0.weight_g', 'flow.flows.0.enc.res_skip_layers.0.weight_v', 'flow.flows.0.enc.res_skip_layers.1.bias', 'flow.flows.0.enc.res_skip_layers.1.weight_g', 'flow.flows.0.enc.res_skip_layers.1.weight_v', 'flow.flows.0.enc.res_skip_layers.2.bias', 'flow.flows.0.enc.res_skip_layers.2.weight_g', 'flow.flows.0.enc.res_skip_layers.2.weight_v', 'flow.flows.0.enc.res_skip_layers.3.bias', 'flow.flows.0.enc.res_skip_layers.3.weight_g', 'flow.flows.0.enc.res_skip_layers.3.weight_v', 'flow.flows.0.enc.cond_layer.bias', 'flow.flows.0.enc.cond_layer.weight_g', 'flow.flows.0.enc.cond_layer.weight_v', 'flow.flows.0.post.weight', 'flow.flows.0.post.bias', 'flow.flows.2.pre.weight', 'flow.flows.2.pre.bias', 'flow.flows.2.enc.in_layers.0.bias', 'flow.flows.2.enc.in_layers.0.weight_g', 'flow.flows.2.enc.in_layers.0.weight_v', 'flow.flows.2.enc.in_layers.1.bias', 'flow.flows.2.enc.in_layers.1.weight_g', 'flow.flows.2.enc.in_layers.1.weight_v', 'flow.flows.2.enc.in_layers.2.bias', 'flow.flows.2.enc.in_layers.2.weight_g', 'flow.flows.2.enc.in_layers.2.weight_v', 'flow.flows.2.enc.in_layers.3.bias', 'flow.flows.2.enc.in_layers.3.weight_g', 'flow.flows.2.enc.in_layers.3.weight_v', 'flow.flows.2.enc.res_skip_layers.0.bias', 'flow.flows.2.enc.res_skip_layers.0.weight_g', 'flow.flows.2.enc.res_skip_layers.0.weight_v', 'flow.flows.2.enc.res_skip_layers.1.bias', 'flow.flows.2.enc.res_skip_layers.1.weight_g', 'flow.flows.2.enc.res_skip_layers.1.weight_v', 'flow.flows.2.enc.res_skip_layers.2.bias', 'flow.flows.2.enc.res_skip_layers.2.weight_g', 'flow.flows.2.enc.res_skip_layers.2.weight_v', 'flow.flows.2.enc.res_skip_layers.3.bias', 'flow.flows.2.enc.res_skip_layers.3.weight_g', 'flow.flows.2.enc.res_skip_layers.3.weight_v', 'flow.flows.2.enc.cond_layer.bias', 'flow.flows.2.enc.cond_layer.weight_g', 'flow.flows.2.enc.cond_layer.weight_v', 'flow.flows.2.post.weight', 'flow.flows.2.post.bias', 'flow.flows.4.pre.weight', 'flow.flows.4.pre.bias', 'flow.flows.4.enc.in_layers.0.bias', 'flow.flows.4.enc.in_layers.0.weight_g', 'flow.flows.4.enc.in_layers.0.weight_v', 'flow.flows.4.enc.in_layers.1.bias', 'flow.flows.4.enc.in_layers.1.weight_g', 'flow.flows.4.enc.in_layers.1.weight_v', 'flow.flows.4.enc.in_layers.2.bias', 'flow.flows.4.enc.in_layers.2.weight_g', 'flow.flows.4.enc.in_layers.2.weight_v', 'flow.flows.4.enc.in_layers.3.bias', 'flow.flows.4.enc.in_layers.3.weight_g', 'flow.flows.4.enc.in_layers.3.weight_v', 'flow.flows.4.enc.res_skip_layers.0.bias', 'flow.flows.4.enc.res_skip_layers.0.weight_g', 'flow.flows.4.enc.res_skip_layers.0.weight_v', 'flow.flows.4.enc.res_skip_layers.1.bias', 'flow.flows.4.enc.res_skip_layers.1.weight_g', 'flow.flows.4.enc.res_skip_layers.1.weight_v', 'flow.flows.4.enc.res_skip_layers.2.bias', 'flow.flows.4.enc.res_skip_layers.2.weight_g', 'flow.flows.4.enc.res_skip_layers.2.weight_v', 'flow.flows.4.enc.res_skip_layers.3.bias', 'flow.flows.4.enc.res_skip_layers.3.weight_g', 'flow.flows.4.enc.res_skip_layers.3.weight_v', 'flow.flows.4.enc.cond_layer.bias', 'flow.flows.4.enc.cond_layer.weight_g', 'flow.flows.4.enc.cond_layer.weight_v', 'flow.flows.4.post.weight', 'flow.flows.4.post.bias', 'flow.flows.6.pre.weight', 'flow.flows.6.pre.bias', 'flow.flows.6.enc.in_layers.0.bias', 'flow.flows.6.enc.in_layers.0.weight_g', 'flow.flows.6.enc.in_layers.0.weight_v', 'flow.flows.6.enc.in_layers.1.bias', 'flow.flows.6.enc.in_layers.1.weight_g', 'flow.flows.6.enc.in_layers.1.weight_v', 'flow.flows.6.enc.in_layers.2.bias', 'flow.flows.6.enc.in_layers.2.weight_g', 'flow.flows.6.enc.in_layers.2.weight_v', 'flow.flows.6.enc.in_layers.3.bias', 'flow.flows.6.enc.in_layers.3.weight_g', 'flow.flows.6.enc.in_layers.3.weight_v', 'flow.flows.6.enc.res_skip_layers.0.bias', 'flow.flows.6.enc.res_skip_layers.0.weight_g', 'flow.flows.6.enc.res_skip_layers.0.weight_v', 'flow.flows.6.enc.res_skip_layers.1.bias', 'flow.flows.6.enc.res_skip_layers.1.weight_g', 'flow.flows.6.enc.res_skip_layers.1.weight_v', 'flow.flows.6.enc.res_skip_layers.2.bias', 'flow.flows.6.enc.res_skip_layers.2.weight_g', 'flow.flows.6.enc.res_skip_layers.2.weight_v', 'flow.flows.6.enc.res_skip_layers.3.bias', 'flow.flows.6.enc.res_skip_layers.3.weight_g', 'flow.flows.6.enc.res_skip_layers.3.weight_v', 'flow.flows.6.enc.cond_layer.bias', 'flow.flows.6.enc.cond_layer.weight_g', 'flow.flows.6.enc.cond_layer.weight_v', 'flow.flows.6.post.weight', 'flow.flows.6.post.bias', 'ref_enc.spectral.0.fc.weight', 'ref_enc.spectral.0.fc.bias', 'ref_enc.spectral.3.fc.weight', 'ref_enc.spectral.3.fc.bias', 'ref_enc.temporal.0.conv1.conv.weight', 'ref_enc.temporal.0.conv1.conv.bias', 'ref_enc.temporal.1.conv1.conv.weight', 'ref_enc.temporal.1.conv1.conv.bias', 'ref_enc.slf_attn.w_qs.weight', 'ref_enc.slf_attn.w_qs.bias', 'ref_enc.slf_attn.w_ks.weight', 'ref_enc.slf_attn.w_ks.bias', 'ref_enc.slf_attn.w_vs.weight', 'ref_enc.slf_attn.w_vs.bias', 'ref_enc.slf_attn.fc.weight', 'ref_enc.slf_attn.fc.bias', 'ref_enc.fc.fc.weight', 'ref_enc.fc.fc.bias', 'ssl_proj.weight', 'ssl_proj.bias', 'quantizer.vq.layers.0._codebook.inited', 'quantizer.vq.layers.0._codebook.cluster_size', 'quantizer.vq.layers.0._codebook.embed', 'quantizer.vq.layers.0._codebook.embed_avg'])"
      ]
     },
     "execution_count": 21,
     "metadata": {},
     "output_type": "execute_result"
    }
   ],
   "source": [
    "dict2[\"weight\"].keys()"
   ]
  },
  {
   "cell_type": "code",
   "execution_count": 25,
   "metadata": {},
   "outputs": [],
   "source": [
    "import torch\n",
    "th_symbol = 171+ 3 #added punctuation"
   ]
  },
  {
   "cell_type": "code",
   "execution_count": 36,
   "metadata": {},
   "outputs": [
    {
     "data": {
      "text/plain": [
       "torch.Size([732, 512])"
      ]
     },
     "execution_count": 36,
     "metadata": {},
     "output_type": "execute_result"
    }
   ],
   "source": [
    "#### 迁移gpt模型的embedding层,插入两个新的token\n",
    "dict = torch.load(r\"GPT_SoVITS\\pretrained_models\\gsv-v2final-pretrained\\s1bert25hz-5kh-longer-epoch=12-step=369668.ckpt\",map_location=torch.device('cpu'))\n",
    "dict[\"weight\"][\"model.ar_text_embedding.word_embeddings.weight\"].shape"
   ]
  },
  {
   "cell_type": "code",
   "execution_count": 37,
   "metadata": {},
   "outputs": [
    {
     "data": {
      "text/plain": [
       "torch.Size([906, 512])"
      ]
     },
     "execution_count": 37,
     "metadata": {},
     "output_type": "execute_result"
    }
   ],
   "source": [
    "first_part = dict[\"weight\"][\"model.ar_text_embedding.word_embeddings.weight\"]\n",
    "second_part = torch.randn(th_symbol,512)\n",
    "new_weight = torch.cat([first_part,second_part],dim=0)\n",
    "new_weight.shape\n"
   ]
  },
  {
   "cell_type": "code",
   "execution_count": 38,
   "metadata": {},
   "outputs": [],
   "source": [
    "dict[\"weight\"][\"model.ar_text_embedding.word_embeddings.weight\"] = new_weight\n",
    "torch.save(dict,r\"GPT_SoVITS\\pretrained_models\\gsv-v2final-pretrained\\s1bert25hz-5kh-longer-epoch=12-step=369668_th_add.ckpt\")"
   ]
  }
 ],
 "metadata": {
  "kernelspec": {
   "display_name": "Python 3",
   "language": "python",
   "name": "python3"
  },
  "language_info": {
   "codemirror_mode": {
    "name": "ipython",
    "version": 3
   },
   "file_extension": ".py",
   "mimetype": "text/x-python",
   "name": "python",
   "nbconvert_exporter": "python",
   "pygments_lexer": "ipython3",
   "version": "3.10.11"
  }
 },
 "nbformat": 4,
 "nbformat_minor": 2
}
